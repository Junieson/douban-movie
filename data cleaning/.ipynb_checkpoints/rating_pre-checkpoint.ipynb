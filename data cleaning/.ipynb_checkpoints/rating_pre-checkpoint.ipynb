{
 "cells": [
  {
   "cell_type": "code",
   "execution_count": 780,
   "id": "funded-ceiling",
   "metadata": {},
   "outputs": [],
   "source": [
    "import pandas as pd\n",
    "import numpy as np\n",
    "import matplotlib.pyplot as plt\n",
    "import seaborn as sns\n",
    "import json\n",
    "from pyecharts.charts import Bar,Grid,Line,Pie\n",
    "from pyecharts import options as opts\n",
    "from pyecharts.globals import ThemeType\n",
    "from pyecharts.commons.utils import JsCode\n",
    "import warnings\n",
    "warnings.filterwarnings('ignore')\n",
    "from sklearn.model_selection import KFold\n",
    "from lightgbm.sklearn import LGBMRegressor\n",
    "from sklearn.metrics import mean_squared_error, mean_absolute_error\n",
    "import time"
   ]
  },
  {
   "cell_type": "code",
   "execution_count": 781,
   "id": "standing-oxide",
   "metadata": {},
   "outputs": [],
   "source": [
    "movies1 =  pd.read_csv(\"movies_piaofang.csv\")\n",
    "movies2 =  pd.read_csv(\"movies_pingfen.csv\")\n",
    "movie_sum= pd.concat([movies1,movies2])"
   ]
  },
  {
   "cell_type": "code",
   "execution_count": 782,
   "id": "classical-expert",
   "metadata": {},
   "outputs": [],
   "source": [
    "fea = [\"release_date\",\"directedBy\",\"starring\",\"genre\",\"runtime\",\"country\",\"rating_num\",\"vote_num\",\"comment_num\"]\n",
    "movies=movie_sum[fea]\n",
    "movies.head(1)\n",
    "movies[\"directedBy\"]= movies[\"directedBy\"].apply(lambda x: x[1:-1].replace(\" \",\"\").split(\",\"))\n",
    "movies[\"starring\"] = movies[\"starring\"].apply(lambda x: x[1:-1].replace(\" \",\"\").split(\",\"))\n",
    "movies[\"genre\"]=movies[\"genre\"].apply(lambda x: x[1:-1].replace(\" \",\"\").split(\",\"))"
   ]
  },
  {
   "cell_type": "code",
   "execution_count": 783,
   "id": "little-month",
   "metadata": {
    "scrolled": true
   },
   "outputs": [
    {
     "data": {
      "text/html": [
       "<div>\n",
       "<style scoped>\n",
       "    .dataframe tbody tr th:only-of-type {\n",
       "        vertical-align: middle;\n",
       "    }\n",
       "\n",
       "    .dataframe tbody tr th {\n",
       "        vertical-align: top;\n",
       "    }\n",
       "\n",
       "    .dataframe thead th {\n",
       "        text-align: right;\n",
       "    }\n",
       "</style>\n",
       "<table border=\"1\" class=\"dataframe\">\n",
       "  <thead>\n",
       "    <tr style=\"text-align: right;\">\n",
       "      <th></th>\n",
       "      <th>release_date</th>\n",
       "      <th>directedBy</th>\n",
       "      <th>starring</th>\n",
       "      <th>genre</th>\n",
       "      <th>runtime</th>\n",
       "      <th>country</th>\n",
       "      <th>rating_num</th>\n",
       "      <th>vote_num</th>\n",
       "      <th>comment_num</th>\n",
       "    </tr>\n",
       "  </thead>\n",
       "  <tbody>\n",
       "    <tr>\n",
       "      <th>0</th>\n",
       "      <td>2019</td>\n",
       "      <td>['安东尼·罗素', '乔·罗素']</td>\n",
       "      <td>['小罗伯特·唐尼', '克里斯·埃文斯', '马克·鲁弗洛', '克里斯·海姆斯沃斯', ...</td>\n",
       "      <td>['剧情', '动作', '科幻', '奇幻', '冒险']</td>\n",
       "      <td>181</td>\n",
       "      <td>美国</td>\n",
       "      <td>8.5</td>\n",
       "      <td>923023</td>\n",
       "      <td>314581</td>\n",
       "    </tr>\n",
       "    <tr>\n",
       "      <th>1</th>\n",
       "      <td>2009</td>\n",
       "      <td>['詹姆斯·卡梅隆']</td>\n",
       "      <td>['萨姆·沃辛顿', '佐伊·索尔达娜', '西格妮·韦弗', '史蒂芬·朗', '米歇尔·...</td>\n",
       "      <td>['动作', '科幻', '冒险']</td>\n",
       "      <td>162</td>\n",
       "      <td>美国 / 英国</td>\n",
       "      <td>8.7</td>\n",
       "      <td>1046959</td>\n",
       "      <td>206783</td>\n",
       "    </tr>\n",
       "    <tr>\n",
       "      <th>2</th>\n",
       "      <td>1997</td>\n",
       "      <td>['詹姆斯·卡梅隆']</td>\n",
       "      <td>['莱昂纳多·迪卡普里奥', '凯特·温丝莱特', '比利·赞恩', '凯西·贝茨', '弗...</td>\n",
       "      <td>['剧情', '爱情', '灾难']</td>\n",
       "      <td>194</td>\n",
       "      <td>美国</td>\n",
       "      <td>9.4</td>\n",
       "      <td>1693601</td>\n",
       "      <td>328281</td>\n",
       "    </tr>\n",
       "    <tr>\n",
       "      <th>3</th>\n",
       "      <td>2015</td>\n",
       "      <td>['J·J·艾布拉姆斯']</td>\n",
       "      <td>['哈里森·福特', '马克·哈米尔', '凯丽·费雪', '亚当·德赖弗', '黛西·雷德...</td>\n",
       "      <td>['动作', '科幻', '冒险']</td>\n",
       "      <td>135</td>\n",
       "      <td>美国</td>\n",
       "      <td>7.2</td>\n",
       "      <td>196795</td>\n",
       "      <td>60634</td>\n",
       "    </tr>\n",
       "    <tr>\n",
       "      <th>4</th>\n",
       "      <td>2018</td>\n",
       "      <td>['安东尼·罗素', '乔·罗素']</td>\n",
       "      <td>['小罗伯特·唐尼', '克里斯·海姆斯沃斯', '克里斯·埃文斯', '马克·鲁弗洛', ...</td>\n",
       "      <td>['动作', '科幻', '奇幻', '冒险']</td>\n",
       "      <td>149</td>\n",
       "      <td>美国</td>\n",
       "      <td>8.1</td>\n",
       "      <td>695008</td>\n",
       "      <td>226207</td>\n",
       "    </tr>\n",
       "    <tr>\n",
       "      <th>...</th>\n",
       "      <td>...</td>\n",
       "      <td>...</td>\n",
       "      <td>...</td>\n",
       "      <td>...</td>\n",
       "      <td>...</td>\n",
       "      <td>...</td>\n",
       "      <td>...</td>\n",
       "      <td>...</td>\n",
       "      <td>...</td>\n",
       "    </tr>\n",
       "    <tr>\n",
       "      <th>490</th>\n",
       "      <td>2002</td>\n",
       "      <td>['易智言']</td>\n",
       "      <td>['陈柏霖', '桂纶镁', '梁又琳', '仇政', '明金成', '林贤能', '黄江丰...</td>\n",
       "      <td>['剧情', '爱情', '同性']</td>\n",
       "      <td>85</td>\n",
       "      <td>台湾 / 法国</td>\n",
       "      <td>8.3</td>\n",
       "      <td>264174</td>\n",
       "      <td>68627</td>\n",
       "    </tr>\n",
       "    <tr>\n",
       "      <th>491</th>\n",
       "      <td>2007</td>\n",
       "      <td>['约翰·卡尼']</td>\n",
       "      <td>['格伦·汉塞德', '玛可塔·伊尔格洛娃']</td>\n",
       "      <td>['剧情', '爱情', '音乐']</td>\n",
       "      <td>85</td>\n",
       "      <td>爱尔兰</td>\n",
       "      <td>8.3</td>\n",
       "      <td>195666</td>\n",
       "      <td>59606</td>\n",
       "    </tr>\n",
       "    <tr>\n",
       "      <th>492</th>\n",
       "      <td>2001</td>\n",
       "      <td>['大卫·林奇']</td>\n",
       "      <td>['娜奥米·沃茨', '劳拉·哈灵', '安·米勒', '贾斯汀·塞洛克斯', '斯科特·科...</td>\n",
       "      <td>['剧情', '悬疑', '惊悚']</td>\n",
       "      <td>147</td>\n",
       "      <td>法国 / 美国</td>\n",
       "      <td>8.3</td>\n",
       "      <td>224077</td>\n",
       "      <td>75866</td>\n",
       "    </tr>\n",
       "    <tr>\n",
       "      <th>493</th>\n",
       "      <td>2009</td>\n",
       "      <td>['克里斯托弗·史密斯']</td>\n",
       "      <td>['梅利莎·乔治', '利亚姆·海姆斯沃斯', '迈克尔·多曼', '瑞秋·卡帕尼', '艾...</td>\n",
       "      <td>['剧情', '悬疑', '惊悚']</td>\n",
       "      <td>99</td>\n",
       "      <td>英国 / 澳大利亚</td>\n",
       "      <td>8.3</td>\n",
       "      <td>303980</td>\n",
       "      <td>90752</td>\n",
       "    </tr>\n",
       "    <tr>\n",
       "      <th>494</th>\n",
       "      <td>2006</td>\n",
       "      <td>['宁浩']</td>\n",
       "      <td>['郭涛', '刘桦', '连晋', '黄渤', '徐峥', '优恵', '罗兰', '王迅']</td>\n",
       "      <td>['喜剧', '犯罪']</td>\n",
       "      <td>106</td>\n",
       "      <td>中国大陆 / 香港</td>\n",
       "      <td>8.2</td>\n",
       "      <td>294114</td>\n",
       "      <td>40292</td>\n",
       "    </tr>\n",
       "  </tbody>\n",
       "</table>\n",
       "<p>495 rows × 9 columns</p>\n",
       "</div>"
      ],
      "text/plain": [
       "     release_date          directedBy  \\\n",
       "0            2019  ['安东尼·罗素', '乔·罗素']   \n",
       "1            2009         ['詹姆斯·卡梅隆']   \n",
       "2            1997         ['詹姆斯·卡梅隆']   \n",
       "3            2015       ['J·J·艾布拉姆斯']   \n",
       "4            2018  ['安东尼·罗素', '乔·罗素']   \n",
       "..            ...                 ...   \n",
       "490          2002             ['易智言']   \n",
       "491          2007           ['约翰·卡尼']   \n",
       "492          2001           ['大卫·林奇']   \n",
       "493          2009       ['克里斯托弗·史密斯']   \n",
       "494          2006              ['宁浩']   \n",
       "\n",
       "                                              starring  \\\n",
       "0    ['小罗伯特·唐尼', '克里斯·埃文斯', '马克·鲁弗洛', '克里斯·海姆斯沃斯', ...   \n",
       "1    ['萨姆·沃辛顿', '佐伊·索尔达娜', '西格妮·韦弗', '史蒂芬·朗', '米歇尔·...   \n",
       "2    ['莱昂纳多·迪卡普里奥', '凯特·温丝莱特', '比利·赞恩', '凯西·贝茨', '弗...   \n",
       "3    ['哈里森·福特', '马克·哈米尔', '凯丽·费雪', '亚当·德赖弗', '黛西·雷德...   \n",
       "4    ['小罗伯特·唐尼', '克里斯·海姆斯沃斯', '克里斯·埃文斯', '马克·鲁弗洛', ...   \n",
       "..                                                 ...   \n",
       "490  ['陈柏霖', '桂纶镁', '梁又琳', '仇政', '明金成', '林贤能', '黄江丰...   \n",
       "491                            ['格伦·汉塞德', '玛可塔·伊尔格洛娃']   \n",
       "492  ['娜奥米·沃茨', '劳拉·哈灵', '安·米勒', '贾斯汀·塞洛克斯', '斯科特·科...   \n",
       "493  ['梅利莎·乔治', '利亚姆·海姆斯沃斯', '迈克尔·多曼', '瑞秋·卡帕尼', '艾...   \n",
       "494   ['郭涛', '刘桦', '连晋', '黄渤', '徐峥', '优恵', '罗兰', '王迅']   \n",
       "\n",
       "                              genre  runtime    country  rating_num  vote_num  \\\n",
       "0    ['剧情', '动作', '科幻', '奇幻', '冒险']      181         美国         8.5    923023   \n",
       "1                ['动作', '科幻', '冒险']      162    美国 / 英国         8.7   1046959   \n",
       "2                ['剧情', '爱情', '灾难']      194         美国         9.4   1693601   \n",
       "3                ['动作', '科幻', '冒险']      135         美国         7.2    196795   \n",
       "4          ['动作', '科幻', '奇幻', '冒险']      149         美国         8.1    695008   \n",
       "..                              ...      ...        ...         ...       ...   \n",
       "490              ['剧情', '爱情', '同性']       85    台湾 / 法国         8.3    264174   \n",
       "491              ['剧情', '爱情', '音乐']       85        爱尔兰         8.3    195666   \n",
       "492              ['剧情', '悬疑', '惊悚']      147    法国 / 美国         8.3    224077   \n",
       "493              ['剧情', '悬疑', '惊悚']       99  英国 / 澳大利亚         8.3    303980   \n",
       "494                    ['喜剧', '犯罪']      106  中国大陆 / 香港         8.2    294114   \n",
       "\n",
       "     comment_num  \n",
       "0         314581  \n",
       "1         206783  \n",
       "2         328281  \n",
       "3          60634  \n",
       "4         226207  \n",
       "..           ...  \n",
       "490        68627  \n",
       "491        59606  \n",
       "492        75866  \n",
       "493        90752  \n",
       "494        40292  \n",
       "\n",
       "[495 rows x 9 columns]"
      ]
     },
     "execution_count": 783,
     "metadata": {},
     "output_type": "execute_result"
    }
   ],
   "source": [
    "dirs = ['史蒂文·斯皮尔伯格',\n",
    " '克里斯托弗·诺兰',\n",
    " '彼得·杰克逊',\n",
    " '迈克尔·贝',\n",
    " '宫崎骏',\n",
    " '大卫·叶茨',\n",
    " '王家卫',\n",
    " '李·昂克里奇',\n",
    " '盖·里奇',\n",
    " '乔·罗素',]\n",
    "stars=['乔恩·费儒',\n",
    " '姜文',\n",
    " '周星驰',\n",
    " '迈克·米切尔',\n",
    " '皮埃尔·柯芬',\n",
    " '鲍勃·彼德森',\n",
    " '克林特·伊斯特伍德',\n",
    " '安德鲁·斯坦顿',\n",
    " '克里斯·雷纳德',\n",
    " '凯文·科斯特纳',]\n",
    "gens=[\"剧情\",\"爱情\",\"喜剧\",\"犯罪\",\"冒险\"]\n",
    "cons =[\"美国\",\"英国\",\"日本\",\"法国\",\"中国大陆\",\"中国香港\",\"中国台湾\",\"香港\",\"台湾\"]\n",
    "movies.index= range(len(movies))\n",
    "movies"
   ]
  },
  {
   "cell_type": "code",
   "execution_count": 784,
   "id": "worse-clerk",
   "metadata": {},
   "outputs": [
    {
     "data": {
      "text/html": [
       "<div>\n",
       "<style scoped>\n",
       "    .dataframe tbody tr th:only-of-type {\n",
       "        vertical-align: middle;\n",
       "    }\n",
       "\n",
       "    .dataframe tbody tr th {\n",
       "        vertical-align: top;\n",
       "    }\n",
       "\n",
       "    .dataframe thead th {\n",
       "        text-align: right;\n",
       "    }\n",
       "</style>\n",
       "<table border=\"1\" class=\"dataframe\">\n",
       "  <thead>\n",
       "    <tr style=\"text-align: right;\">\n",
       "      <th></th>\n",
       "      <th>release_date</th>\n",
       "      <th>directedBy</th>\n",
       "      <th>starring</th>\n",
       "      <th>genre</th>\n",
       "      <th>runtime</th>\n",
       "      <th>country</th>\n",
       "      <th>rating_num</th>\n",
       "      <th>vote_num</th>\n",
       "      <th>comment_num</th>\n",
       "    </tr>\n",
       "  </thead>\n",
       "  <tbody>\n",
       "    <tr>\n",
       "      <th>1</th>\n",
       "      <td>2009</td>\n",
       "      <td>['詹姆斯·卡梅隆']</td>\n",
       "      <td>['萨姆·沃辛顿', '佐伊·索尔达娜', '西格妮·韦弗', '史蒂芬·朗', '米歇尔·...</td>\n",
       "      <td>['动作', '科幻', '冒险']</td>\n",
       "      <td>162</td>\n",
       "      <td>美国 / 英国</td>\n",
       "      <td>8.7</td>\n",
       "      <td>1046959</td>\n",
       "      <td>206783</td>\n",
       "    </tr>\n",
       "    <tr>\n",
       "      <th>2</th>\n",
       "      <td>1997</td>\n",
       "      <td>['詹姆斯·卡梅隆']</td>\n",
       "      <td>['莱昂纳多·迪卡普里奥', '凯特·温丝莱特', '比利·赞恩', '凯西·贝茨', '弗...</td>\n",
       "      <td>['剧情', '爱情', '灾难']</td>\n",
       "      <td>194</td>\n",
       "      <td>美国</td>\n",
       "      <td>9.4</td>\n",
       "      <td>1693601</td>\n",
       "      <td>328281</td>\n",
       "    </tr>\n",
       "    <tr>\n",
       "      <th>4</th>\n",
       "      <td>2018</td>\n",
       "      <td>['安东尼·罗素', '乔·罗素']</td>\n",
       "      <td>['小罗伯特·唐尼', '克里斯·海姆斯沃斯', '克里斯·埃文斯', '马克·鲁弗洛', ...</td>\n",
       "      <td>['动作', '科幻', '奇幻', '冒险']</td>\n",
       "      <td>149</td>\n",
       "      <td>美国</td>\n",
       "      <td>8.1</td>\n",
       "      <td>695008</td>\n",
       "      <td>226207</td>\n",
       "    </tr>\n",
       "  </tbody>\n",
       "</table>\n",
       "</div>"
      ],
      "text/plain": [
       "   release_date          directedBy  \\\n",
       "1          2009         ['詹姆斯·卡梅隆']   \n",
       "2          1997         ['詹姆斯·卡梅隆']   \n",
       "4          2018  ['安东尼·罗素', '乔·罗素']   \n",
       "\n",
       "                                            starring  \\\n",
       "1  ['萨姆·沃辛顿', '佐伊·索尔达娜', '西格妮·韦弗', '史蒂芬·朗', '米歇尔·...   \n",
       "2  ['莱昂纳多·迪卡普里奥', '凯特·温丝莱特', '比利·赞恩', '凯西·贝茨', '弗...   \n",
       "4  ['小罗伯特·唐尼', '克里斯·海姆斯沃斯', '克里斯·埃文斯', '马克·鲁弗洛', ...   \n",
       "\n",
       "                      genre  runtime  country  rating_num  vote_num  \\\n",
       "1        ['动作', '科幻', '冒险']      162  美国 / 英国         8.7   1046959   \n",
       "2        ['剧情', '爱情', '灾难']      194       美国         9.4   1693601   \n",
       "4  ['动作', '科幻', '奇幻', '冒险']      149       美国         8.1    695008   \n",
       "\n",
       "   comment_num  \n",
       "1       206783  \n",
       "2       328281  \n",
       "4       226207  "
      ]
     },
     "execution_count": 784,
     "metadata": {},
     "output_type": "execute_result"
    }
   ],
   "source": [
    "movies.loc[[1,2,4]]"
   ]
  },
  {
   "cell_type": "code",
   "execution_count": 785,
   "id": "incident-width",
   "metadata": {},
   "outputs": [],
   "source": [
    "for i in range(495):\n",
    "    temp = movies.loc[i][\"country\"].replace(\" \",\"\").split(\"/\")\n",
    "    for j1 in range(len(cons)):\n",
    "        ids = \"c\"+str(j1)\n",
    "        if(j1>3):\n",
    "            if cons[j1] in temp:\n",
    "                movies.loc[i,\"c4\"] = 1 \n",
    "            else:\n",
    "                movies.loc[i,\"c4\"] = 0\n",
    "        else:\n",
    "            if cons[j1] in temp:\n",
    "                movies.loc[i,ids] = 1 \n",
    "            else:\n",
    "                movies.loc[i,ids] = 0\n"
   ]
  },
  {
   "cell_type": "code",
   "execution_count": 786,
   "id": "cooperative-detective",
   "metadata": {},
   "outputs": [],
   "source": [
    "def fea_create(list_fea,which_fea,name):\n",
    "    for i in range(495):\n",
    "        for j1 in range(len(list_fea)):\n",
    "            ids = name+str(j1)\n",
    "            if \"'\"+list_fea[j1]+\"'\" in movies.loc[i][which_fea]:\n",
    "                movies.loc[i,ids] = 1\n",
    "            else:\n",
    "                movies.loc[i,ids] = 0\n",
    "fea_create(dirs,\"directedBy\",\"d\")\n",
    "fea_create(stars,\"starring\",\"s\")\n",
    "fea_create(gens,\"genre\",\"g\")\n"
   ]
  },
  {
   "cell_type": "code",
   "execution_count": 787,
   "id": "outstanding-biotechnology",
   "metadata": {},
   "outputs": [
    {
     "data": {
      "text/plain": [
       "<Figure size 432x288 with 0 Axes>"
      ]
     },
     "metadata": {},
     "output_type": "display_data"
    },
    {
     "data": {
      "image/png": "[encoded data removed]",
      "text/plain": [
       "<Figure size 1152x2160 with 31 Axes>"
      ]
     },
     "metadata": {
      "needs_background": "light"
     },
     "output_type": "display_data"
    }
   ],
   "source": [
    "#类别特征取值较少的，画出直方图,\n",
    "df  =  movies.drop([\"directedBy\",\"starring\",\"genre\",\"country\"],axis=1).copy()\n",
    "cat_fea = df.columns.tolist()\n",
    "plt.figure()\n",
    "plt.figure(figsize=(16, 30))\n",
    "i = 1\n",
    "for fea in cat_fea:\n",
    "    if df[fea].nunique()<50:\n",
    "        plt.subplot(10, 5, i)\n",
    "        i += 1\n",
    "        v = df[fea].value_counts()\n",
    "        fig = sns.barplot(x=v.index, y=v.values)\n",
    "        for item in fig.get_xticklabels():\n",
    "            item.set_rotation(90)\n",
    "        plt.title(fea)\n",
    "plt.tight_layout()\n",
    "plt.show()\n"
   ]
  },
  {
   "cell_type": "code",
   "execution_count": 788,
   "id": "executive-single",
   "metadata": {},
   "outputs": [
    {
     "data": {
      "text/plain": [
       "<Figure size 432x288 with 0 Axes>"
      ]
     },
     "metadata": {},
     "output_type": "display_data"
    },
    {
     "data": {
      "image/png": "[encoded data removed]",
      "text/plain": [
       "<Figure size 720x216 with 2 Axes>"
      ]
     },
     "metadata": {
      "needs_background": "light"
     },
     "output_type": "display_data"
    }
   ],
   "source": [
    "plt.figure()\n",
    "plt.figure(figsize=(10, 3))\n",
    "plt.subplot(1, 2,1)\n",
    "sns.distplot(df['rating_num'])\n",
    "plt.subplot(1,2,2)\n",
    "df['rating_num'].plot.box()\n",
    "plt.tight_layout()"
   ]
  },
  {
   "cell_type": "code",
   "execution_count": 789,
   "id": "trained-tunisia",
   "metadata": {},
   "outputs": [
    {
     "data": {
      "text/plain": [
       "<matplotlib.axes._subplots.AxesSubplot at 0x1b47bf49438>"
      ]
     },
     "execution_count": 789,
     "metadata": {},
     "output_type": "execute_result"
    },
    {
     "data": {
      "image/png": "[encoded data removed]",
      "text/plain": [
       "<Figure size 864x864 with 2 Axes>"
      ]
     },
     "metadata": {
      "needs_background": "light"
     },
     "output_type": "display_data"
    }
   ],
   "source": [
    "choice_f = ['release_date', 'runtime', \n",
    "       'rating_num', 'vote_num', 'comment_num', 'd0', 'd1', 'd2', 'd3', 'd4',\n",
    "       'd5', 'd6', 'd7', 'd8', 'd9', 's0', 's1', 's2', 's3', 's4', 's5', 's6',\n",
    "       's7', 's8', 's9', 'g0', 'g1', 'g2', 'g3', 'g4', 'c0', 'c1', 'c2', 'c3',\n",
    "       'c4']\n",
    "corr1 = abs(movies[choice_f].corr())\n",
    "plt.figure(figsize=(12, 12))\n",
    "sns.heatmap(corr1, linewidths=0.1, cmap=sns.cm.rocket_r)"
   ]
  },
  {
   "cell_type": "code",
   "execution_count": 790,
   "id": "blond-importance",
   "metadata": {},
   "outputs": [],
   "source": [
    "import random\n",
    "random.seed(120)\n",
    "al = range(495) \n",
    "sub = random.sample(al,400)\n",
    "sub_ = [ i for i in al if i not in sub ]"
   ]
  },
  {
   "cell_type": "code",
   "execution_count": 791,
   "id": "united-wheel",
   "metadata": {},
   "outputs": [],
   "source": [
    "data  =  movies.drop([\"directedBy\",\"starring\",\"genre\",\"country\"],axis=1).copy()\n",
    "X_train = data.loc[sub].drop([\"rating_num\"],axis=1)\n",
    "Y_train = data.loc[sub][\"rating_num\"]\n",
    "X_test = data.loc[sub_].drop([\"rating_num\"],axis=1)\n",
    "Y_test = data.loc[sub_][\"rating_num\"]"
   ]
  },
  {
   "cell_type": "code",
   "execution_count": 792,
   "id": "super-giant",
   "metadata": {},
   "outputs": [],
   "source": [
    "index = Y_train.index.tolist()\n",
    "subsample_index = random.sample(index,50)\n"
   ]
  },
  {
   "cell_type": "code",
   "execution_count": 793,
   "id": "juvenile-valuation",
   "metadata": {},
   "outputs": [
    {
     "name": "stdout",
     "output_type": "stream",
     "text": [
      "MAE:0.371696\n",
      "The predicted price is obvious different from true price\n"
     ]
    },
    {
     "data": {
      "image/png": "[encoded data removed]",
      "text/plain": [
       "<Figure size 432x288 with 1 Axes>"
      ]
     },
     "metadata": {
      "needs_background": "light"
     },
     "output_type": "display_data"
    }
   ],
   "source": [
    "from sklearn.linear_model import LinearRegression\n",
    "from sklearn.metrics import mean_absolute_error,  make_scorer\n",
    "from sklearn.model_selection import cross_val_score\n",
    "from sklearn.metrics import accuracy_score\n",
    "lr = LinearRegression(normalize=True)\n",
    "model = lr.fit(X_train, Y_train)\n",
    "print(\"MAE:%f\"%mean_absolute_error(Y_test,model.predict(X_test)))\n",
    "index = Y_train.index.tolist()\n",
    "subsample_index = random.sample(index,50)\n",
    "plt.scatter(X_train.loc[subsample_index].index, Y_train.loc[subsample_index], color='black')\n",
    "plt.scatter(X_train.loc[subsample_index].index, model.predict(X_train.loc[subsample_index]), color='blue')\n",
    "plt.xlabel('v_9')\n",
    "plt.ylabel('price')\n",
    "plt.legend(['True Price','Predicted Price'],loc='upper right')\n",
    "print('The predicted price is obvious different from true price')\n",
    "plt.show()"
   ]
  },
  {
   "cell_type": "code",
   "execution_count": 794,
   "id": "blocked-duration",
   "metadata": {},
   "outputs": [
    {
     "name": "stdout",
     "output_type": "stream",
     "text": [
      "[LightGBM] [Warning] feature_fraction is set=0.9, colsample_bytree=1.0 will be ignored. Current value: feature_fraction=0.9\n",
      "[LightGBM] [Warning] bagging_fraction is set=0.9, subsample=1.0 will be ignored. Current value: bagging_fraction=0.9\n",
      "[LightGBM] [Warning] lambda_l2 is set=2, reg_lambda=0.0 will be ignored. Current value: lambda_l2=2\n",
      "[LightGBM] [Warning] bagging_freq is set=0, subsample_freq=0 will be ignored. Current value: bagging_freq=0\n",
      "MAE:0.288656\n"
     ]
    }
   ],
   "source": [
    "# from sklearn.model_selection import GridSearchCV\n",
    "clf = LGBMRegressor(\n",
    "    n_estimators=500,\n",
    "    learning_rate=0.01,\n",
    "    boosting_type= 'gbdt',\n",
    "    objective = 'regression_l1',\n",
    "    max_depth = -1,\n",
    "    num_leaves=31,\n",
    "    min_child_samples = 12,\n",
    "    feature_fraction = 0.9,\n",
    "    bagging_freq = 0,\n",
    "    bagging_fraction = 0.9,\n",
    "    lambda_l2 = 2,\n",
    "    random_state=2021,\n",
    "    metric='mae'\n",
    ")\n",
    "gsearch = GridSearchCV(clf, param_grid=params, scoring=\"neg_mean_absolute_error\" , cv=3, verbose=300)\n",
    "# gsearch.fit(X_train, Y_train)\n",
    "clf.fit(\n",
    "        X_train, Y_train,\n",
    "        verbose=300\n",
    "    )\n",
    "mae_lgbm=mean_absolute_error(Y_test,clf.predict(X_test))\n",
    "print(\"MAE:%f\"%mae_lgbm)"
   ]
  },
  {
   "cell_type": "code",
   "execution_count": 795,
   "id": "parental-combine",
   "metadata": {},
   "outputs": [
    {
     "name": "stdout",
     "output_type": "stream",
     "text": [
      "MAE:0.310955\n"
     ]
    }
   ],
   "source": [
    "import xgboost as xgb\n",
    "xgb = xgb.XGBRegressor(\n",
    "    n_estimators=200, \n",
    "    learning_rate=0.03, \n",
    "    gamma=0, \n",
    "    subsample=0.7,\n",
    "    colsample_bytree=0.9,\n",
    "    max_depth=11,\n",
    "    ) \n",
    "xgb.fit(\n",
    "        X_train, Y_train,\n",
    "        verbose=200\n",
    "    )\n",
    "mae_xgb=mean_absolute_error(Y_test,xgb.predict(X_test))\n",
    "print(\"MAE:%f\"%mae_xgb)"
   ]
  },
  {
   "cell_type": "code",
   "execution_count": 796,
   "id": "sacred-compensation",
   "metadata": {},
   "outputs": [
    {
     "name": "stdout",
     "output_type": "stream",
     "text": [
      "MAE:0.312671\n",
      "[ 1.23105759 -0.22486354]\n"
     ]
    }
   ],
   "source": [
    "X_mix_train = pd.concat([pd.DataFrame(xgb.predict(X_train)),pd.DataFrame(clf.predict(X_train))],axis=1)\n",
    "X_mix_train.columns = [\"xgb\",\"lgbm\"]\n",
    "X_mix_test = pd.concat([pd.DataFrame(xgb.predict(X_test)),pd.DataFrame(clf.predict(X_test))],axis=1)\n",
    "X_mix_test.columns = [\"xgb\",\"lgbm\"]\n",
    "\n",
    "lr2 = LinearRegression(fit_intercept=False)\n",
    "model2 = lr2.fit(X_mix_train, Y_train)\n",
    "print(\"MAE:%f\"%mean_absolute_error(Y_test,model2.predict(X_mix_test)))\n",
    "print(model2.coef_)\n",
    "# pre_mix =pd.concat([pd.DataFrame(model2.predict(X_mix_train)),X_mix_train,Y_train],axis=1)"
   ]
  },
  {
   "cell_type": "code",
   "execution_count": 797,
   "id": "athletic-transformation",
   "metadata": {},
   "outputs": [
    {
     "name": "stdout",
     "output_type": "stream",
     "text": [
      "MAE:0.290298\n"
     ]
    },
    {
     "data": {
      "text/html": [
       "<div>\n",
       "<style scoped>\n",
       "    .dataframe tbody tr th:only-of-type {\n",
       "        vertical-align: middle;\n",
       "    }\n",
       "\n",
       "    .dataframe tbody tr th {\n",
       "        vertical-align: top;\n",
       "    }\n",
       "\n",
       "    .dataframe thead th {\n",
       "        text-align: right;\n",
       "    }\n",
       "</style>\n",
       "<table border=\"1\" class=\"dataframe\">\n",
       "  <thead>\n",
       "    <tr style=\"text-align: right;\">\n",
       "      <th></th>\n",
       "      <th>xgb</th>\n",
       "      <th>lgbm</th>\n",
       "      <th>pre</th>\n",
       "      <th>true</th>\n",
       "    </tr>\n",
       "  </thead>\n",
       "  <tbody>\n",
       "    <tr>\n",
       "      <th>0</th>\n",
       "      <td>7.376043</td>\n",
       "      <td>7.519161</td>\n",
       "      <td>7.450263</td>\n",
       "      <td>7.7</td>\n",
       "    </tr>\n",
       "    <tr>\n",
       "      <th>1</th>\n",
       "      <td>7.445232</td>\n",
       "      <td>7.772431</td>\n",
       "      <td>7.614916</td>\n",
       "      <td>8.4</td>\n",
       "    </tr>\n",
       "    <tr>\n",
       "      <th>2</th>\n",
       "      <td>7.764539</td>\n",
       "      <td>8.050769</td>\n",
       "      <td>7.912976</td>\n",
       "      <td>7.6</td>\n",
       "    </tr>\n",
       "    <tr>\n",
       "      <th>3</th>\n",
       "      <td>7.444564</td>\n",
       "      <td>7.301065</td>\n",
       "      <td>7.370147</td>\n",
       "      <td>7.1</td>\n",
       "    </tr>\n",
       "    <tr>\n",
       "      <th>4</th>\n",
       "      <td>7.199328</td>\n",
       "      <td>7.244738</td>\n",
       "      <td>7.222878</td>\n",
       "      <td>8.6</td>\n",
       "    </tr>\n",
       "    <tr>\n",
       "      <th>...</th>\n",
       "      <td>...</td>\n",
       "      <td>...</td>\n",
       "      <td>...</td>\n",
       "      <td>...</td>\n",
       "    </tr>\n",
       "    <tr>\n",
       "      <th>90</th>\n",
       "      <td>7.897245</td>\n",
       "      <td>8.430996</td>\n",
       "      <td>8.174045</td>\n",
       "      <td>8.5</td>\n",
       "    </tr>\n",
       "    <tr>\n",
       "      <th>91</th>\n",
       "      <td>8.454836</td>\n",
       "      <td>8.556499</td>\n",
       "      <td>8.507558</td>\n",
       "      <td>8.4</td>\n",
       "    </tr>\n",
       "    <tr>\n",
       "      <th>92</th>\n",
       "      <td>8.482005</td>\n",
       "      <td>8.600521</td>\n",
       "      <td>8.543467</td>\n",
       "      <td>8.4</td>\n",
       "    </tr>\n",
       "    <tr>\n",
       "      <th>93</th>\n",
       "      <td>8.686647</td>\n",
       "      <td>8.676295</td>\n",
       "      <td>8.681278</td>\n",
       "      <td>8.3</td>\n",
       "    </tr>\n",
       "    <tr>\n",
       "      <th>94</th>\n",
       "      <td>8.475064</td>\n",
       "      <td>8.603425</td>\n",
       "      <td>8.541632</td>\n",
       "      <td>8.3</td>\n",
       "    </tr>\n",
       "  </tbody>\n",
       "</table>\n",
       "<p>95 rows × 4 columns</p>\n",
       "</div>"
      ],
      "text/plain": [
       "         xgb      lgbm       pre  true\n",
       "0   7.376043  7.519161  7.450263   7.7\n",
       "1   7.445232  7.772431  7.614916   8.4\n",
       "2   7.764539  8.050769  7.912976   7.6\n",
       "3   7.444564  7.301065  7.370147   7.1\n",
       "4   7.199328  7.244738  7.222878   8.6\n",
       "..       ...       ...       ...   ...\n",
       "90  7.897245  8.430996  8.174045   8.5\n",
       "91  8.454836  8.556499  8.507558   8.4\n",
       "92  8.482005  8.600521  8.543467   8.4\n",
       "93  8.686647  8.676295  8.681278   8.3\n",
       "94  8.475064  8.603425  8.541632   8.3\n",
       "\n",
       "[95 rows x 4 columns]"
      ]
     },
     "execution_count": 797,
     "metadata": {},
     "output_type": "execute_result"
    }
   ],
   "source": [
    "mix = pd.DataFrame()\n",
    "mix[\"xgb\"] = X_mix_test[\"xgb\"]\n",
    "mix[\"lgbm\"] = X_mix_test[\"lgbm\"]\n",
    "\n",
    "mix[\"pre\"] =  X_mix_test[\"xgb\"]*(mae_lgbm/(mae_lgbm+mae_xgb))+ X_mix_test[\"lgbm\"]*(mae_xgb/(mae_lgbm+mae_xgb))\n",
    "print(\"MAE:%f\"%mean_absolute_error(Y_test,mix[\"pre\"]))\n",
    "mix[\"true\"]  = pd.DataFrame(Y_test).reset_index(drop=True)\n",
    "mix"
   ]
  },
  {
   "cell_type": "code",
   "execution_count": 798,
   "id": "incomplete-transcription",
   "metadata": {},
   "outputs": [
    {
     "name": "stdout",
     "output_type": "stream",
     "text": [
      "The predicted price is obvious different from true price\n"
     ]
    },
    {
     "data": {
      "image/png": "[encoded data removed]",
      "text/plain": [
       "<Figure size 432x288 with 1 Axes>"
      ]
     },
     "metadata": {
      "needs_background": "light"
     },
     "output_type": "display_data"
    }
   ],
   "source": [
    "index = mix.index.tolist()\n",
    "subsample_index = random.sample(index,50)\n",
    "plt.scatter(mix.loc[subsample_index].index, mix.loc[subsample_index][\"true\"], color='black')\n",
    "plt.scatter(mix.loc[subsample_index].index, mix.loc[subsample_index][\"lgbm\"], color='blue')\n",
    "plt.scatter(mix.loc[subsample_index].index, mix.loc[subsample_index][\"xgb\"], color='red')\n",
    "plt.scatter(mix.loc[subsample_index].index, mix.loc[subsample_index][\"pre\"], color='green')\n",
    "\n",
    "plt.xlabel('v_9')\n",
    "plt.ylabel('price')\n",
    "plt.legend(['True Price','Predicted Price'],loc='upper right')\n",
    "print('The predicted price is obvious different from true price')\n",
    "plt.show()"
   ]
  }
 ],
 "metadata": {
  "kernelspec": {
   "display_name": "Python 3",
   "language": "python",
   "name": "python3"
  },
  "language_info": {
   "codemirror_mode": {
    "name": "ipython",
    "version": 3
   },
   "file_extension": ".py",
   "mimetype": "text/x-python",
   "name": "python",
   "nbconvert_exporter": "python",
   "pygments_lexer": "ipython3",
   "version": "3.6.12"
  }
 },
 "nbformat": 4,
 "nbformat_minor": 5
}
