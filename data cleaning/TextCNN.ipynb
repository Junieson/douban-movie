{
 "cells": [
  {
   "cell_type": "code",
   "execution_count": 108,
   "id": "tender-collection",
   "metadata": {},
   "outputs": [],
   "source": [
    "import pandas as pd\n",
    "import numpy as np\n",
    "import jieba   # 分词包\n",
    "import matplotlib.pyplot as plt\n",
    "%matplotlib inline\n",
    "import seaborn as sns\n",
    "import json\n",
    "import warnings\n",
    "import random\n",
    "warnings.filterwarnings(\"ignore\")\n",
    "from pyecharts.charts import Bar,Grid,Line,Pie\n",
    "from pyecharts import options as opts\n",
    "from pyecharts.globals import ThemeType\n",
    "from pyecharts.commons.utils import JsCode\n",
    "from wordcloud import WordCloud # 词云包\n",
    "from sklearn.model_selection import train_test_split"
   ]
  },
  {
   "cell_type": "code",
   "execution_count": 109,
   "id": "different-identity",
   "metadata": {},
   "outputs": [],
   "source": [
    "sen = pd.read_csv(\"temp_filem_ML.csv\")['0'].apply(lambda x: tuple(eval(x)))\n",
    "random.shuffle(sen)     \n",
    "x,y=zip(*sen)\n",
    "train_data,test_data,train_target,test_target=train_test_split(x, y, random_state=1234)\n",
    "cate_dic={'like':1,'dislike':0}\n",
    "y_train = pd.Series(train_target).apply(lambda x:cate_dic[x] , train_target)\n",
    "y_test = pd.Series(test_target).apply(lambda x:cate_dic[x] , test_target)"
   ]
  },
  {
   "cell_type": "code",
   "execution_count": 110,
   "id": "coupled-memphis",
   "metadata": {},
   "outputs": [],
   "source": [
    "sens = sen[~(sen.apply(lambda x: x[0])=='')]"
   ]
  },
  {
   "cell_type": "code",
   "execution_count": 111,
   "id": "international-snowboard",
   "metadata": {},
   "outputs": [],
   "source": [
    "# sen"
   ]
  },
  {
   "cell_type": "code",
   "execution_count": 112,
   "id": "virtual-craps",
   "metadata": {},
   "outputs": [],
   "source": [
    "def process(x):\n",
    "    return str(cate_dic[x[1]])+\" \t \"+x[0].strip().replace(\"\\r\",\"\").replace(\"\\n\",\"\").replace(\"\\t\",\"\")\n",
    "sens = sens.apply(process)\n"
   ]
  },
  {
   "cell_type": "code",
   "execution_count": 113,
   "id": "cooked-traveler",
   "metadata": {},
   "outputs": [
    {
     "data": {
      "text/plain": [
       "40    1 \\t 多元 细致 视角 再现 正面战场 代表 之一 四行 仓库 保卫战 四天 四夜 惨烈...\n",
       "41                       0 \\t 萌萌 younglings 由于 伤心 只能 一分\n",
       "42                                           1 \\t 谢谢 拷贝\n",
       "43                   1 \\t 战争 硬汉 氛围 紧张 刺激 最终 离世 令人 感慨 反思\n",
       "44                                       1 \\t Brilliant\n",
       "45                                  0 \\t 既然 朋友 为何 枷锁 铁链\n",
       "46                                             1 \\t 瑞秋丑\n",
       "47                                              1 \\t 好看\n",
       "48                                           0 \\t 全程 尿点\n",
       "49    1 \\t 出生 情緒 感覺 家人 South Node 南交點 前生 一直 今生 留有 前生...\n",
       "Name: 0, dtype: object"
      ]
     },
     "execution_count": 113,
     "metadata": {},
     "output_type": "execute_result"
    }
   ],
   "source": [
    "sens.iloc[40:50]"
   ]
  },
  {
   "cell_type": "code",
   "execution_count": 114,
   "id": "encouraging-support",
   "metadata": {},
   "outputs": [],
   "source": [
    "sens.to_csv(\"cutclean_label_corpus10000.txt\",index=False)"
   ]
  }
 ],
 "metadata": {
  "kernelspec": {
   "display_name": "Python 3",
   "language": "python",
   "name": "python3"
  },
  "language_info": {
   "codemirror_mode": {
    "name": "ipython",
    "version": 3
   },
   "file_extension": ".py",
   "mimetype": "text/x-python",
   "name": "python",
   "nbconvert_exporter": "python",
   "pygments_lexer": "ipython3",
   "version": "3.6.12"
  }
 },
 "nbformat": 4,
 "nbformat_minor": 5
}
